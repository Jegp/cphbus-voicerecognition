{
 "cells": [
  {
   "cell_type": "code",
   "execution_count": 18,
   "metadata": {},
   "outputs": [
    {
     "name": "stdout",
     "output_type": "stream",
     "text": [
      "Sphinx thinks you said helen dewar\n"
     ]
    }
   ],
   "source": [
    "# NOTE: this example requires PyAudio because it uses the Microphone class\n",
    "\n",
    "import time\n",
    "\n",
    "import speech_recognition as sr\n",
    "\n",
    "# this is called from the background thread\n",
    "def callback(recognizer, audio):\n",
    "    # received audio data, now we'll recognize it using Google Speech Recognition\n",
    "    try:\n",
    "        print(\"Sphinx thinks you said \" + r.recognize_sphinx(audio))\n",
    "        with open(\"microphone-results.wav\", \"wb\") as f:\n",
    "            f.write(audio.get_wav_data())\n",
    "    except sr.UnknownValueError:\n",
    "        print(\"Sphinx could not understand audio\")\n",
    "    except sr.RequestError as e:\n",
    "        print(\"Sphinx error; {0}\".format(e))\n",
    "\n",
    "r = sr.Recognizer()\n",
    "m = sr.Microphone()\n",
    "with m as source:\n",
    "    r.adjust_for_ambient_noise(source)  # we only need to calibrate once, before we start listening\n",
    "\n",
    "# start listening in the background (note that we don't have to do this inside a `with` statement)\n",
    "stop_listening = r.listen_in_background(m, callback)\n",
    "# `stop_listening` is now a function that, when called, stops background listening\n",
    "\n",
    "# do some other computation for 3 seconds, then stop listening and keep doing other computations\n",
    "for _ in range(30): time.sleep(0.1)  # we're still listening even though the main thread is doing other things\n",
    "stop_listening()  # calling this function requests that the background listener stop listening\n",
    "#while True: time.sleep(0.1)"
   ]
  },
  {
   "cell_type": "code",
   "execution_count": 7,
   "metadata": {},
   "outputs": [],
   "source": [
    "s"
   ]
  },
  {
   "cell_type": "code",
   "execution_count": 14,
   "metadata": {},
   "outputs": [
    {
     "ename": "ImportError",
     "evalue": "No module named 'audioTrainTest'",
     "output_type": "error",
     "traceback": [
      "\u001b[0;31m---------------------------------------------------------------------------\u001b[0m",
      "\u001b[0;31mImportError\u001b[0m                               Traceback (most recent call last)",
      "\u001b[0;32m<ipython-input-14-1a16eec69dc3>\u001b[0m in \u001b[0;36m<module>\u001b[0;34m()\u001b[0m\n\u001b[0;32m----> 1\u001b[0;31m \u001b[0;32mfrom\u001b[0m \u001b[0mpyAudioAnalysis\u001b[0m \u001b[0;32mimport\u001b[0m \u001b[0maudioFeatureExtraction\u001b[0m \u001b[0;32mas\u001b[0m \u001b[0mAT\u001b[0m\u001b[0;34m\u001b[0m\u001b[0m\n\u001b[0m\u001b[1;32m      2\u001b[0m \u001b[0;32mfrom\u001b[0m \u001b[0mpyAudioAnalysis\u001b[0m \u001b[0;32mimport\u001b[0m \u001b[0maudioTrainTest\u001b[0m \u001b[0;32mas\u001b[0m \u001b[0mATT\u001b[0m\u001b[0;34m\u001b[0m\u001b[0m\n\u001b[1;32m      3\u001b[0m \u001b[0;32mfrom\u001b[0m \u001b[0mpyAudioAnalysis\u001b[0m \u001b[0;32mimport\u001b[0m \u001b[0maudioAnalysis\u001b[0m \u001b[0;32mas\u001b[0m \u001b[0maA\u001b[0m\u001b[0;34m\u001b[0m\u001b[0m\n",
      "\u001b[0;32m~/workspace/cphbusiness/voiceschema/pyAudioAnalysis/audioFeatureExtraction.py\u001b[0m in \u001b[0;36m<module>\u001b[0;34m()\u001b[0m\n\u001b[1;32m     15\u001b[0m \u001b[0;32mimport\u001b[0m \u001b[0mmatplotlib\u001b[0m\u001b[0;34m.\u001b[0m\u001b[0mpyplot\u001b[0m \u001b[0;32mas\u001b[0m \u001b[0mplt\u001b[0m\u001b[0;34m\u001b[0m\u001b[0m\n\u001b[1;32m     16\u001b[0m \u001b[0;32mfrom\u001b[0m \u001b[0mscipy\u001b[0m \u001b[0;32mimport\u001b[0m \u001b[0mlinalg\u001b[0m \u001b[0;32mas\u001b[0m \u001b[0mla\u001b[0m\u001b[0;34m\u001b[0m\u001b[0m\n\u001b[0;32m---> 17\u001b[0;31m \u001b[0;32mimport\u001b[0m \u001b[0maudioTrainTest\u001b[0m \u001b[0;32mas\u001b[0m \u001b[0maT\u001b[0m\u001b[0;34m\u001b[0m\u001b[0m\n\u001b[0m\u001b[1;32m     18\u001b[0m \u001b[0;32mimport\u001b[0m \u001b[0maudioBasicIO\u001b[0m\u001b[0;34m\u001b[0m\u001b[0m\n\u001b[1;32m     19\u001b[0m \u001b[0;32mimport\u001b[0m \u001b[0mutilities\u001b[0m\u001b[0;34m\u001b[0m\u001b[0m\n",
      "\u001b[0;31mImportError\u001b[0m: No module named 'audioTrainTest'"
     ]
    }
   ],
   "source": [
    "from pyAudioAnalysis import audioTrainTest as ATT\n",
    "from pyAudioAnalysis import audioAnalysis as aA"
   ]
  },
  {
   "cell_type": "code",
   "execution_count": null,
   "metadata": {},
   "outputs": [],
   "source": [
    "print(pyAudioAnalysis)"
   ]
  }
 ],
 "metadata": {
  "kernelspec": {
   "display_name": "Python 3",
   "language": "python",
   "name": "python3"
  },
  "language_info": {
   "codemirror_mode": {
    "name": "ipython",
    "version": 3
   },
   "file_extension": ".py",
   "mimetype": "text/x-python",
   "name": "python",
   "nbconvert_exporter": "python",
   "pygments_lexer": "ipython3",
   "version": "3.5.3"
  }
 },
 "nbformat": 4,
 "nbformat_minor": 2
}
